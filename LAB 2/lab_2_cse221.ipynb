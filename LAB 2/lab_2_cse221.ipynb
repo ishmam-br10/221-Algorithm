{
  "nbformat": 4,
  "nbformat_minor": 0,
  "metadata": {
    "colab": {
      "provenance": []
    },
    "kernelspec": {
      "name": "python3",
      "display_name": "Python 3"
    },
    "language_info": {
      "name": "python"
    }
  },
  "cells": [
    {
      "cell_type": "markdown",
      "source": [
        "# Extras"
      ],
      "metadata": {
        "id": "obefT8-KPj1-"
      }
    },
    {
      "cell_type": "code",
      "source": [
        "#@title File link\n",
        "\"https://docs.google.com/document/d/1wfjSKA6MUwJG0GhQMu5qYMiK8jgQ04edz_X-TH-O8rc/edit\""
      ],
      "metadata": {
        "cellView": "form",
        "id": "laArjwkvmXYe"
      },
      "execution_count": null,
      "outputs": []
    },
    {
      "cell_type": "markdown",
      "source": [
        "# TASK 1"
      ],
      "metadata": {
        "id": "rALeofHpPT6_"
      }
    },
    {
      "cell_type": "code",
      "source": [
        "#@title Task 1 (i)\n",
        "input = open(\"input 1.txt\", mode = 'r')\n",
        "output = open(\"output 1 a.txt\", mode = 'w')\n",
        "inp_list = input.readlines() #the listed list of input\n",
        "# create a stripped list\n",
        "stripped = []\n",
        "for p in inp_list:\n",
        "  stripped.append(p.strip())\n",
        "# print(stripped)\n",
        "# here I am creating a single input file\n",
        "# that will keep all the inputs and they will pass it systemitacally on a for loop\n",
        "for m in range(1, len(stripped), 2):\n",
        "  in1 = stripped[m-1].split(\" \")\n",
        "  in2 = stripped[m].split(\" \")\n",
        "  a = in2\n",
        "  N = int(in1[0])\n",
        "  S = int(in1[1])\n",
        "  # print(a, N, S, in1)\n",
        "  found = False\n",
        "  # first iterating over the first pointer\n",
        "  for i in range(N):\n",
        "    # secondary pointer k\n",
        "    for j in range(i+1, N):\n",
        "      # if it is false then automatically condition declines\n",
        "      if int(a[i]) + int(a[j]) == S and found == False:\n",
        "        output.write(f\"{i+1} {j+1} \\n\")\n",
        "        found = True\n",
        "        break\n",
        "  if found == False:\n",
        "    output.write(f\"IMPOSSIBLE \\n\")\n",
        "output.close()"
      ],
      "metadata": {
        "cellView": "form",
        "id": "5rtw1sWOoAbN"
      },
      "execution_count": null,
      "outputs": []
    },
    {
      "cell_type": "code",
      "source": [
        "# checker\n",
        "checker = open('output 1 a.txt', mode = 'r')\n",
        "checker_list = checker.read()\n",
        "print(checker_list)"
      ],
      "metadata": {
        "colab": {
          "base_uri": "https://localhost:8080/"
        },
        "id": "77nSHjjC0oNV",
        "outputId": "bdd46f79-949e-491f-e668-2c6d9febe293"
      },
      "execution_count": null,
      "outputs": [
        {
          "output_type": "stream",
          "name": "stdout",
          "text": [
            "2 4 \n",
            "3 6 \n",
            "IMPOSSIBLE \n",
            "IMPOSSIBLE \n",
            "\n"
          ]
        }
      ]
    },
    {
      "cell_type": "code",
      "execution_count": null,
      "metadata": {
        "id": "zf8ELPe8EytN",
        "cellView": "form"
      },
      "outputs": [],
      "source": [
        "#@title Task1 (ii) O(n)\n",
        "\n",
        "#@title Task 1 (i)\n",
        "input = open(\"input 1.txt\", mode = 'r')\n",
        "output = open(\"output 1 b.txt\", mode = 'w')\n",
        "inp_list = input.readlines() #the listed list of input\n",
        "# create a stripped list\n",
        "stripped = []\n",
        "for p in inp_list:\n",
        "  stripped.append(p.strip())\n",
        "# here I am creating a single input file\n",
        "# that will keep all the inputs and they will pass it systemitacally on a for loop\n",
        "for m in range(1, len(stripped), 2):\n",
        "  in1 = stripped[m-1].split(\" \")\n",
        "  in2 = stripped[m].split(\" \")\n",
        "  a = in2\n",
        "  # print(a)\n",
        "  N = int(in1[0])\n",
        "  S = int(in1[1])\n",
        "  # here is an empty dictionary to keep my data\n",
        "  num_dict = {}\n",
        "  # keeping my pairs here\n",
        "  pair = None\n",
        "  # keeping this pair will help me to keep track\n",
        "  # thus it will help me to solve cases like input 2\n",
        "  for i in range(N):\n",
        "    if S - int(a[i]) in num_dict:\n",
        "        pair = (num_dict[S - int(a[i])] + 1, i + 1)\n",
        "    num_dict[int(a[i])] = i\n",
        "    # jodi pair e keu na thake tahole pair e ekta tuple insert korbo\n",
        "  if pair is not None:\n",
        "      output.write(f\"{pair[0]} {pair[1]} \\n\")\n",
        "  else:\n",
        "      output.write(f\"IMPOSSIBLE \\n\")\n",
        "output.close()\n"
      ]
    },
    {
      "cell_type": "code",
      "source": [
        "# checker\n",
        "checker = open('output 1 b.txt', mode = 'r')\n",
        "checker_list = checker.read()\n",
        "print(checker_list)"
      ],
      "metadata": {
        "colab": {
          "base_uri": "https://localhost:8080/"
        },
        "id": "rzveN-MP2_Dj",
        "outputId": "90214a0a-db23-4914-da9f-214bd9606a3e"
      },
      "execution_count": null,
      "outputs": [
        {
          "output_type": "stream",
          "name": "stdout",
          "text": [
            "2 4 \n",
            "3 6 \n",
            "IMPOSSIBLE \n",
            "IMPOSSIBLE \n",
            "\n"
          ]
        }
      ]
    },
    {
      "cell_type": "markdown",
      "source": [
        "# TASK 2"
      ],
      "metadata": {
        "id": "I3gJ4_z6PNqe"
      }
    },
    {
      "cell_type": "code",
      "source": [
        "#@title Task 2 I\n",
        "input = open(\"input 2.txt\", mode = 'r')\n",
        "output2 = open(\"output 2 a.txt\", mode = 'w')\n",
        "inp_list = input.readlines() #the listed list of input\n",
        "# create a stripped list\n",
        "stripped = []\n",
        "for p in inp_list:\n",
        "  stripped.append(p.strip())\n",
        "# here I am creating a single input file\n",
        "# that will keep all the inputs and\n",
        "#they will pass it systemitacally on a for loop\n",
        "for i in range(1, len(stripped), 4):\n",
        "  alice_list = list(map(int, stripped[i].split(\" \"))) # alice list or the first one\n",
        "  bob_list = list(map(int, stripped[i+2].split(\" \")))  # bob list or the second one\n",
        "  N = int(stripped[i-1]) # Alice er number or first number\n",
        "  M = int(stripped[i+1]) # Bob er number or second number\n",
        "  # Now make a merged list\n",
        "  merged_list = []\n",
        "  # print(alice_list)\n",
        "  # lets take two iterable\n",
        "  x,y = 0,0\n",
        "  #while loop banaite hobe, jekhane conditional hbe\n",
        "  while x<N and y<M:\n",
        "    if alice_list[x] <= bob_list[y]:\n",
        "      merged_list.append(str(alice_list[x]))\n",
        "      x += 1\n",
        "    elif alice_list[x] >= bob_list[y]:\n",
        "      merged_list.append(str(bob_list[y]))\n",
        "      y += 1\n",
        "  merged_list.extend(map(str, alice_list[x:]))\n",
        "  merged_list.extend(map(str, bob_list[y:]))\n",
        "  output2.write(f\"{merged_list} \\n\")\n",
        "\n",
        "output2.close()"
      ],
      "metadata": {
        "id": "isBwtL3f9Z5M",
        "cellView": "form"
      },
      "execution_count": null,
      "outputs": []
    },
    {
      "cell_type": "code",
      "source": [
        "# checker\n",
        "checker = open(\"output 2 a.txt\", mode = 'r')\n",
        "checker_list = checker.read()\n",
        "print(checker_list)"
      ],
      "metadata": {
        "colab": {
          "base_uri": "https://localhost:8080/"
        },
        "id": "q2B3NIE_GELn",
        "outputId": "fb816707-4074-4c76-a4cd-db2f96f8787e"
      },
      "execution_count": null,
      "outputs": [
        {
          "output_type": "stream",
          "name": "stdout",
          "text": [
            "['1', '2', '2', '3', '4', '5', '7', '8'] \n",
            "['2', '3', '4', '6', '7', '8', '9', '10', '12'] \n",
            "['1', '2', '3', '4', '10'] \n",
            "['1', '1', '2', '3', '4', '5', '6', '8', '8', '8', '10', '12', '13', '14', '15', '16'] \n",
            "\n"
          ]
        }
      ]
    },
    {
      "cell_type": "code",
      "source": [
        "#@title Task 2 II\n",
        "input = open(\"input 2.txt\", mode = 'r')\n",
        "output2 = open(\"output 2 b.txt\", mode = 'w')\n",
        "inp_list = input.readlines() #the listed list of input\n",
        "# create a stripped list\n",
        "stripped = []\n",
        "for p in inp_list:\n",
        "  stripped.append(p.strip())\n",
        "# here I am creating a single input file\n",
        "# that will keep all the inputs and\n",
        "#they will pass it systemitacally on a for loop\n",
        "for i in range(1, len(stripped), 4):\n",
        "  alice_list = list(map(int, stripped[i].split(\" \"))) # alice list or the first one\n",
        "  bob_list = list(map(int, stripped[i+2].split(\" \")))  # bob list or the second one\n",
        "  N = int(stripped[i-1]) # Alice er number or first number\n",
        "  M = int(stripped[i+1]) # Bob er number or second number\n",
        "  # Now make a merged list\n",
        "  merged_list = [0]*(N+M)\n",
        "  # start from the end of the list to make this more EFFICIENT\n",
        "  x = N - 1\n",
        "  y = M -1\n",
        "  z = N+M -1\n",
        "  while x >= 0 and y >= 0:\n",
        "    if alice_list[x] >= bob_list[y]:\n",
        "      merged_list[z] = str(alice_list[x])\n",
        "      x -= 1\n",
        "    else:\n",
        "      merged_list[z] = str(bob_list[y])\n",
        "      y -= 1\n",
        "    z -= 1\n",
        "  while x>= 0:\n",
        "    merged_list[z] = str(alice_list[x])\n",
        "    x -= 1\n",
        "    z -= 1\n",
        "  while y >= 0:\n",
        "    merged_list[z] = str(bob_list[y])\n",
        "    y -= 1\n",
        "    z -= 1\n",
        "  # print(merged_list)\n",
        "  output2.write(f\"{merged_list} \\n\")\n",
        "\n",
        "output2.close()"
      ],
      "metadata": {
        "cellView": "form",
        "id": "oXeetK2APtQh"
      },
      "execution_count": null,
      "outputs": []
    },
    {
      "cell_type": "code",
      "source": [
        "# checker\n",
        "checker = open(\"output 2 b.txt\", mode = 'r')\n",
        "checker_list = checker.read()\n",
        "print(checker_list)"
      ],
      "metadata": {
        "colab": {
          "base_uri": "https://localhost:8080/"
        },
        "id": "rcXtcgjkUylk",
        "outputId": "0010a5cf-eb3b-4c84-afa2-916d4c1e7f4d"
      },
      "execution_count": null,
      "outputs": [
        {
          "output_type": "stream",
          "name": "stdout",
          "text": [
            "['1', '2', '2', '3', '4', '5', '7', '8'] \n",
            "['2', '3', '4', '6', '7', '8', '9', '10', '12'] \n",
            "['1', '2', '3', '4', '10'] \n",
            "['1', '1', '2', '3', '4', '5', '6', '8', '8', '8', '10', '12', '13', '14', '15', '16'] \n",
            "\n"
          ]
        }
      ]
    },
    {
      "cell_type": "markdown",
      "source": [
        "# TASK 3"
      ],
      "metadata": {
        "id": "KTtAwUPLU9i1"
      }
    },
    {
      "cell_type": "code",
      "source": [
        "#@title Task 3\n",
        "input = open(\"input 3.txt\", mode = 'r')\n",
        "output3 = open(\"output 3.txt\", mode = 'w')\n",
        "inp_list = input.readlines() #the listed list of input\n",
        "# create a stripped list\n",
        "stripped = []\n",
        "for p in inp_list:\n",
        "  stripped.append(p.strip())\n",
        "# Create a list to store the tasks\n",
        "tasks = []\n",
        "for i in range(1, int(stripped[0])):\n",
        "    start, end = map(int, stripped[i].split(\" \"))\n",
        "    tasks.append((start, end))\n",
        "\n",
        "# Sort the tasks based on their end times\n",
        "tasks.sort(key=lambda x: x[1])\n",
        "#variable to storee\n",
        "current_end_time = -1\n",
        "completed_tasks = []\n",
        "\n",
        "# Iterate through the sorted tasks\n",
        "for task in tasks:\n",
        "    start, end = task\n",
        "    if start >= current_end_time:\n",
        "        completed_tasks.append(task)\n",
        "        current_end_time = end\n",
        "\n",
        "# max num of tasks\n",
        "output3.write(f\"{str(len(completed_tasks))} \\n\")\n",
        "#interval\n",
        "for task in completed_tasks:\n",
        "    # print(task[0], task[1])\n",
        "    output3.write(f\"{str(task[0])} {str(task[1])} \\n\")\n",
        "output3.close()"
      ],
      "metadata": {
        "id": "Q9NJUXgQVCZg",
        "cellView": "form"
      },
      "execution_count": null,
      "outputs": []
    },
    {
      "cell_type": "code",
      "source": [
        "# checker\n",
        "checker = open(\"output 3.txt\", mode = 'r')\n",
        "checker_list = checker.read()\n",
        "print(checker_list)"
      ],
      "metadata": {
        "colab": {
          "base_uri": "https://localhost:8080/"
        },
        "id": "zmhmNEsiKcIH",
        "outputId": "ca6dcaf6-d5e0-499b-c5bb-15fab60e3c75"
      },
      "execution_count": null,
      "outputs": [
        {
          "output_type": "stream",
          "name": "stdout",
          "text": [
            "3 \n",
            "1 3 \n",
            "4 6 \n",
            "6 8 \n",
            "\n"
          ]
        }
      ]
    },
    {
      "cell_type": "markdown",
      "source": [
        "# TASK 4"
      ],
      "metadata": {
        "id": "grCKbvvNVJ8i"
      }
    },
    {
      "cell_type": "code",
      "source": [
        "def greedy(list, done):\n",
        "  list.sort(key = lambda x:x[1])\n",
        "  pre_pre_time, pre_pro_time = list[0]\n",
        "  count = 1\n",
        "  for t in list:\n",
        "    start, end  = t\n",
        "    if start < pre_pro_time:\n",
        "      pass\n",
        "    elif t not in done:\n",
        "      pre_pre_time = start\n",
        "      pre_pro_time = end\n",
        "      count += 1\n",
        "      done.append(t)\n",
        "  return count\n",
        "\n",
        "input_4 = open(\"input 4.txt\", mode = 'r')\n",
        "output_4 = open('output 4.txt', mode = 'w')\n",
        "\n",
        "list = []\n",
        "done = []\n",
        "inp_list = input_4.readlines() #the listed list of input\n",
        "# create a stripped list\n",
        "stripped = []\n",
        "for p in inp_list:\n",
        "  stripped.append(p.strip())\n",
        "# Create a list to store the tasks\n",
        "# print(stripped)\n",
        "number_of_act, workers = stripped[0].split(\" \")\n",
        "# print(number_of_act, workers)\n",
        "for i in range(1, int(stripped[0][0])+1):\n",
        "    start, end = map(int, stripped[i].split(\" \"))\n",
        "    list.append((start, end))\n",
        "count2 = 0\n",
        "# print(list)\n",
        "for i in range(int(workers)):\n",
        "  count2 += greedy(list, done)\n",
        "output_4.write(f\"{count2}\\n\")\n",
        "output_4.close()"
      ],
      "metadata": {
        "id": "sMJkSQY1VfUA",
        "colab": {
          "base_uri": "https://localhost:8080/"
        },
        "outputId": "fe521859-4d95-4ad0-86d9-25479f99d921"
      },
      "execution_count": null,
      "outputs": [
        {
          "output_type": "stream",
          "name": "stdout",
          "text": [
            "['5 2', '1 5', '3 6', '2 5', '8 10', '6 9']\n",
            "5 2\n",
            "[(1, 5), (3, 6), (2, 5), (8, 10), (6, 9)]\n"
          ]
        }
      ]
    },
    {
      "cell_type": "code",
      "source": [
        "# checker\n",
        "checker = open(\"output 4.txt\", mode = 'r')\n",
        "checker_list = checker.read()\n",
        "print(checker_list)"
      ],
      "metadata": {
        "colab": {
          "base_uri": "https://localhost:8080/"
        },
        "id": "A7cqLheo4IBA",
        "outputId": "d79faeee-4c24-463a-d2ef-1b13180b67fb"
      },
      "execution_count": null,
      "outputs": [
        {
          "output_type": "stream",
          "name": "stdout",
          "text": [
            "4\n",
            "\n"
          ]
        }
      ]
    }
  ]
}